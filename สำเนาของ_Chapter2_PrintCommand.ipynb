{
  "nbformat": 4,
  "nbformat_minor": 0,
  "metadata": {
    "kernelspec": {
      "display_name": "Python 3",
      "language": "python",
      "name": "python3"
    },
    "language_info": {
      "codemirror_mode": {
        "name": "ipython",
        "version": 3
      },
      "file_extension": ".py",
      "mimetype": "text/x-python",
      "name": "python",
      "nbconvert_exporter": "python",
      "pygments_lexer": "ipython3",
      "version": "3.7.3"
    },
    "colab": {
      "provenance": [],
      "include_colab_link": true
    }
  },
  "cells": [
    {
      "cell_type": "markdown",
      "metadata": {
        "id": "view-in-github",
        "colab_type": "text"
      },
      "source": [
        "<a href=\"https://colab.research.google.com/github/krufern/bmi/blob/main/%E0%B8%AA%E0%B8%B3%E0%B9%80%E0%B8%99%E0%B8%B2%E0%B8%82%E0%B8%AD%E0%B8%87_Chapter2_PrintCommand.ipynb\" target=\"_parent\"><img src=\"https://colab.research.google.com/assets/colab-badge.svg\" alt=\"Open In Colab\"/></a>"
      ]
    },
    {
      "cell_type": "markdown",
      "metadata": {
        "id": "kWj3mNIqbXjr"
      },
      "source": [
        "# - Question 1"
      ]
    },
    {
      "cell_type": "markdown",
      "metadata": {
        "id": "Ll3_05yKbXju"
      },
      "source": [
        "### solution 1.1 (recommend)"
      ]
    },
    {
      "cell_type": "code",
      "metadata": {
        "id": "ELGmJDBKbXjv",
        "colab": {
          "base_uri": "https://localhost:8080/"
        },
        "outputId": "5c53e293-0a56-42af-c3ea-d0675f97d127"
      },
      "source": [
        "print('Hello')"
      ],
      "execution_count": null,
      "outputs": [
        {
          "output_type": "stream",
          "text": [
            "Hello\n"
          ],
          "name": "stdout"
        }
      ]
    },
    {
      "cell_type": "markdown",
      "metadata": {
        "id": "-E2RRoN5bXjw"
      },
      "source": [
        "### solution 1.2"
      ]
    },
    {
      "cell_type": "code",
      "metadata": {
        "id": "VMQ56W0ZbXjw",
        "colab": {
          "base_uri": "https://localhost:8080/"
        },
        "outputId": "d1333635-e1cf-4c1c-9da4-787615152fb1"
      },
      "source": [
        "print(\"Hello\")"
      ],
      "execution_count": null,
      "outputs": [
        {
          "output_type": "stream",
          "text": [
            "Hello\n"
          ],
          "name": "stdout"
        }
      ]
    },
    {
      "cell_type": "markdown",
      "metadata": {
        "id": "n5og4pq1bXjx"
      },
      "source": [
        "# - Question 2"
      ]
    },
    {
      "cell_type": "markdown",
      "metadata": {
        "id": "eOw2JTp9bXjy"
      },
      "source": [
        "### solution 2.1 (recommend)"
      ]
    },
    {
      "cell_type": "code",
      "metadata": {
        "id": "f2tBiNvLbXjy",
        "colab": {
          "base_uri": "https://localhost:8080/"
        },
        "outputId": "c3567270-9cc5-4e88-9516-9126b1ec40f0"
      },
      "source": [
        "print('Hello World')"
      ],
      "execution_count": null,
      "outputs": [
        {
          "output_type": "stream",
          "text": [
            "Hello World\n"
          ],
          "name": "stdout"
        }
      ]
    },
    {
      "cell_type": "markdown",
      "metadata": {
        "id": "bPX4W-UQbXjz"
      },
      "source": [
        "### solution 2.2"
      ]
    },
    {
      "cell_type": "code",
      "metadata": {
        "id": "gbat7aRNbXjz",
        "colab": {
          "base_uri": "https://localhost:8080/"
        },
        "outputId": "e3719f3c-d74d-4b04-905b-04e0e30fed62"
      },
      "source": [
        "print(\"Hello World\")"
      ],
      "execution_count": null,
      "outputs": [
        {
          "output_type": "stream",
          "text": [
            "Hello World\n"
          ],
          "name": "stdout"
        }
      ]
    },
    {
      "cell_type": "markdown",
      "metadata": {
        "id": "A4KEASoubXj0"
      },
      "source": [
        "# - Question 3"
      ]
    },
    {
      "cell_type": "markdown",
      "metadata": {
        "id": "rj2B-ZqhbXj0"
      },
      "source": [
        "### solution 3.1 (recommend)"
      ]
    },
    {
      "cell_type": "code",
      "metadata": {
        "id": "pZx0gZJybXj0",
        "colab": {
          "base_uri": "https://localhost:8080/"
        },
        "outputId": "80ec41b3-1182-447c-9d69-4e3b70674be7"
      },
      "source": [
        "print('hello_python')"
      ],
      "execution_count": null,
      "outputs": [
        {
          "output_type": "stream",
          "text": [
            "hello_python\n"
          ],
          "name": "stdout"
        }
      ]
    },
    {
      "cell_type": "markdown",
      "metadata": {
        "id": "IJqosJ42bXj1"
      },
      "source": [
        "### solution 3.2"
      ]
    },
    {
      "cell_type": "code",
      "metadata": {
        "id": "3BUDZJogbXj1",
        "colab": {
          "base_uri": "https://localhost:8080/"
        },
        "outputId": "c850b5a3-2b52-4550-a40e-f85ea383a745"
      },
      "source": [
        "print(\"hello_python\")"
      ],
      "execution_count": null,
      "outputs": [
        {
          "output_type": "stream",
          "text": [
            "hello_python\n"
          ],
          "name": "stdout"
        }
      ]
    },
    {
      "cell_type": "markdown",
      "metadata": {
        "id": "3QrEBb_kbXj2"
      },
      "source": [
        "# - Question 4"
      ]
    },
    {
      "cell_type": "markdown",
      "metadata": {
        "id": "poqjFUp3bXj2"
      },
      "source": [
        "### solution 4.1 (recommend)"
      ]
    },
    {
      "cell_type": "code",
      "metadata": {
        "id": "fKXwj6BPbXj3",
        "colab": {
          "base_uri": "https://localhost:8080/"
        },
        "outputId": "567a9af8-2ef8-4409-d03c-5511419304ea"
      },
      "source": [
        "print(\"Merry X'mas\")"
      ],
      "execution_count": null,
      "outputs": [
        {
          "output_type": "stream",
          "text": [
            "Merry X'mas\n"
          ],
          "name": "stdout"
        }
      ]
    },
    {
      "cell_type": "markdown",
      "metadata": {
        "id": "8HrwC9UKbXj3"
      },
      "source": [
        "### solution 4.2"
      ]
    },
    {
      "cell_type": "code",
      "metadata": {
        "id": "LNsWhrF0bXj4",
        "colab": {
          "base_uri": "https://localhost:8080/"
        },
        "outputId": "61160801-a1c1-44b2-cdb6-53cf89b8d9e7"
      },
      "source": [
        "print('Merry X\\'mas')"
      ],
      "execution_count": null,
      "outputs": [
        {
          "output_type": "stream",
          "text": [
            "Merry X'mas\n"
          ],
          "name": "stdout"
        }
      ]
    },
    {
      "cell_type": "markdown",
      "metadata": {
        "id": "FULEodtJbXj4"
      },
      "source": [
        "### solution 4.3"
      ]
    },
    {
      "cell_type": "code",
      "metadata": {
        "id": "YT8hib92bXj5",
        "colab": {
          "base_uri": "https://localhost:8080/"
        },
        "outputId": "2144051c-0d81-4e24-d354-e727d9a0272b"
      },
      "source": [
        "print(\"Merry X\\'mas\")"
      ],
      "execution_count": null,
      "outputs": [
        {
          "output_type": "stream",
          "text": [
            "Merry X'mas\n"
          ],
          "name": "stdout"
        }
      ]
    },
    {
      "cell_type": "markdown",
      "metadata": {
        "id": "WijPic6_bXj5"
      },
      "source": [
        "# - Question 5"
      ]
    },
    {
      "cell_type": "markdown",
      "metadata": {
        "id": "1UUOntceymJi"
      },
      "source": [
        "### solution 5.1 (recommend)"
      ]
    },
    {
      "cell_type": "code",
      "metadata": {
        "colab": {
          "base_uri": "https://localhost:8080/"
        },
        "id": "hjpYwS-iymJs",
        "outputId": "350d48e0-86f4-49b4-ffdf-9cca67678482"
      },
      "source": [
        "print('I want to ask you \"Why don\\'t you drive to work ?\"')"
      ],
      "execution_count": null,
      "outputs": [
        {
          "output_type": "stream",
          "text": [
            "I want to ask you \"Why don't you drive to work ?\"\n"
          ],
          "name": "stdout"
        }
      ]
    },
    {
      "cell_type": "markdown",
      "metadata": {
        "id": "mpsFKVOtymJt"
      },
      "source": [
        "### solution 5.2"
      ]
    },
    {
      "cell_type": "code",
      "metadata": {
        "colab": {
          "base_uri": "https://localhost:8080/"
        },
        "id": "drpwkQKgymJu",
        "outputId": "a6ece61d-fdbf-4af8-879b-94f8ba87de44"
      },
      "source": [
        "print(\"I want to ask you \\\"Why don't you drive to work ?\\\"\")"
      ],
      "execution_count": null,
      "outputs": [
        {
          "output_type": "stream",
          "text": [
            "I want to ask you \"Why don't you drive to work ?\"\n"
          ],
          "name": "stdout"
        }
      ]
    },
    {
      "cell_type": "markdown",
      "metadata": {
        "id": "btRXftFHbXj8"
      },
      "source": [
        "# - Question 6"
      ]
    },
    {
      "cell_type": "markdown",
      "metadata": {
        "id": "a63Tu5Kiy6J5"
      },
      "source": [
        "### solution 6.1 (recommend)"
      ]
    },
    {
      "cell_type": "code",
      "metadata": {
        "colab": {
          "base_uri": "https://localhost:8080/"
        },
        "id": "SftVtdCxy6J7",
        "outputId": "b04360d5-3d46-492f-bb91-aad20bfdc76a"
      },
      "source": [
        "print('\"I don\\'t have a car\"')"
      ],
      "execution_count": null,
      "outputs": [
        {
          "output_type": "stream",
          "text": [
            "\"I don't have a car\"\n"
          ],
          "name": "stdout"
        }
      ]
    },
    {
      "cell_type": "markdown",
      "metadata": {
        "id": "fHnAxo81y6J8"
      },
      "source": [
        "### solution 6.2"
      ]
    },
    {
      "cell_type": "code",
      "metadata": {
        "colab": {
          "base_uri": "https://localhost:8080/"
        },
        "id": "U7qqxz6Wy6J8",
        "outputId": "21feb317-e358-4458-90cb-8ada5dc47622"
      },
      "source": [
        "print(\"\\\"I don\\'t have a car\\\"\")"
      ],
      "execution_count": null,
      "outputs": [
        {
          "output_type": "stream",
          "text": [
            "\"I don't have a car\"\n"
          ],
          "name": "stdout"
        }
      ]
    },
    {
      "cell_type": "markdown",
      "metadata": {
        "id": "RxZEULGJbXj9"
      },
      "source": [
        "# - Question 7"
      ]
    },
    {
      "cell_type": "markdown",
      "metadata": {
        "id": "JXsT4UDFzQAc"
      },
      "source": [
        "### solution 7.1 (recommend)"
      ]
    },
    {
      "cell_type": "code",
      "metadata": {
        "colab": {
          "base_uri": "https://localhost:8080/"
        },
        "id": "2j3sqrWvzQAd",
        "outputId": "b21061fb-a0b3-4ebc-f766-a1fd1eb1bb45"
      },
      "source": [
        "print(\"You got a new job !? That's so exiting !\")"
      ],
      "execution_count": null,
      "outputs": [
        {
          "output_type": "stream",
          "text": [
            "You got a new job !? That's so exiting !\n"
          ],
          "name": "stdout"
        }
      ]
    },
    {
      "cell_type": "markdown",
      "metadata": {
        "id": "oZbLUTPfzQAd"
      },
      "source": [
        "### solution 7.2"
      ]
    },
    {
      "cell_type": "code",
      "metadata": {
        "colab": {
          "base_uri": "https://localhost:8080/"
        },
        "id": "Z9_NmdzwzQAe",
        "outputId": "f9a63f99-5f4d-4fd3-f893-4076133adfc4"
      },
      "source": [
        "print('You got a new job !? That\\'s so exiting !')"
      ],
      "execution_count": null,
      "outputs": [
        {
          "output_type": "stream",
          "text": [
            "You got a new job !? That's so exiting !\n"
          ],
          "name": "stdout"
        }
      ]
    },
    {
      "cell_type": "markdown",
      "metadata": {
        "id": "7e-oJQ1jbXkA"
      },
      "source": [
        "# - Question 8"
      ]
    },
    {
      "cell_type": "markdown",
      "metadata": {
        "id": "Qi22IeM2bXj5"
      },
      "source": [
        "### solution 8.1 (recommend)"
      ]
    },
    {
      "cell_type": "code",
      "metadata": {
        "id": "z3-KAZl1bXj5",
        "colab": {
          "base_uri": "https://localhost:8080/"
        },
        "outputId": "b54cc6b2-0c1d-45e8-f1af-2863d84518ea"
      },
      "source": [
        "print('สวัสดีวันจันทร์')"
      ],
      "execution_count": null,
      "outputs": [
        {
          "output_type": "stream",
          "text": [
            "สวัสดีวันจันทร์\n"
          ],
          "name": "stdout"
        }
      ]
    },
    {
      "cell_type": "markdown",
      "metadata": {
        "id": "lBIinb7gbXj8"
      },
      "source": [
        "### solution 8.2"
      ]
    },
    {
      "cell_type": "code",
      "metadata": {
        "id": "4-C4jSmjbXj8",
        "colab": {
          "base_uri": "https://localhost:8080/"
        },
        "outputId": "ab6afbc4-47e5-47c3-9053-d263b35fff56"
      },
      "source": [
        "print(\"สวัสดีวันจันทร์\")"
      ],
      "execution_count": null,
      "outputs": [
        {
          "output_type": "stream",
          "text": [
            "สวัสดีวันจันทร์\n"
          ],
          "name": "stdout"
        }
      ]
    },
    {
      "cell_type": "markdown",
      "metadata": {
        "id": "r1LvPBnrbXkC"
      },
      "source": [
        "# - Question 9"
      ]
    },
    {
      "cell_type": "markdown",
      "metadata": {
        "id": "F2ebddxabXj8"
      },
      "source": [
        "### solution 9.1 (recommend)"
      ]
    },
    {
      "cell_type": "code",
      "metadata": {
        "id": "chg9VyJLbXj9",
        "colab": {
          "base_uri": "https://localhost:8080/"
        },
        "outputId": "0c1f6fd9-384d-49ae-b38d-1d0ae5f57916"
      },
      "source": [
        "print('ความแตกต่างระหว่างคนเก่งกับคนไม่เก่ง คือ \"การใช้เวลาว่างให้เป็นประโยชน์\"')"
      ],
      "execution_count": null,
      "outputs": [
        {
          "output_type": "stream",
          "text": [
            "ความแตกต่างระหว่างคนเก่งกับคนไม่เก่ง คือ \"การใช้เวลาว่างให้เป็นประโยชน์\"\n"
          ],
          "name": "stdout"
        }
      ]
    },
    {
      "cell_type": "markdown",
      "metadata": {
        "id": "Z4hk7HQ0bXj9"
      },
      "source": [
        "### solution 9.2"
      ]
    },
    {
      "cell_type": "code",
      "metadata": {
        "id": "uLCEQUgVbXj9",
        "colab": {
          "base_uri": "https://localhost:8080/"
        },
        "outputId": "53d031db-5b06-4a74-fa96-b6dce584f147"
      },
      "source": [
        "print(\"ความแตกต่างระหว่างคนเก่งกับคนไม่เก่ง คือ \\\"การใช้เวลาว่างให้เป็นประโยชน์\\\"\")"
      ],
      "execution_count": null,
      "outputs": [
        {
          "output_type": "stream",
          "text": [
            "ความแตกต่างระหว่างคนเก่งกับคนไม่เก่ง คือ \"การใช้เวลาว่างให้เป็นประโยชน์\"\n"
          ],
          "name": "stdout"
        }
      ]
    },
    {
      "cell_type": "markdown",
      "metadata": {
        "id": "WGRKK-E2bXkF"
      },
      "source": [
        "# - Question 10"
      ]
    },
    {
      "cell_type": "markdown",
      "metadata": {
        "id": "fB_RPiFYbXkS"
      },
      "source": [
        "### solution 10.1 (recommend)"
      ]
    },
    {
      "cell_type": "code",
      "metadata": {
        "scrolled": true,
        "id": "2Aiq1EhfbXkU",
        "colab": {
          "base_uri": "https://localhost:8080/"
        },
        "outputId": "e57aefda-d744-4755-d75f-01e6a83555c3"
      },
      "source": [
        "print('/\\\\/\\\\/\\\\')"
      ],
      "execution_count": null,
      "outputs": [
        {
          "output_type": "stream",
          "text": [
            "/\\/\\/\\\n"
          ],
          "name": "stdout"
        }
      ]
    },
    {
      "cell_type": "markdown",
      "metadata": {
        "id": "09wko0ADbXkU"
      },
      "source": [
        "### solution 10.2"
      ]
    },
    {
      "cell_type": "code",
      "metadata": {
        "id": "TyiiEV08bXkV",
        "colab": {
          "base_uri": "https://localhost:8080/"
        },
        "outputId": "d5453ab4-96fc-4af0-8279-6a8368d987d4"
      },
      "source": [
        "print(\"/\\\\/\\\\/\\\\\")"
      ],
      "execution_count": null,
      "outputs": [
        {
          "output_type": "stream",
          "text": [
            "/\\/\\/\\\n"
          ],
          "name": "stdout"
        }
      ]
    },
    {
      "cell_type": "markdown",
      "metadata": {
        "id": "uRZrcxjXbXkJ"
      },
      "source": [
        "# - Question 11"
      ]
    },
    {
      "cell_type": "markdown",
      "metadata": {
        "id": "hINVAuexbXkL"
      },
      "source": [
        "### solution 11.1 (recommend)"
      ]
    },
    {
      "cell_type": "code",
      "metadata": {
        "id": "x9wiD2U-bXkM",
        "colab": {
          "base_uri": "https://localhost:8080/"
        },
        "outputId": "1d98b467-ebcf-4a66-9e41-0ad3a1d45e35"
      },
      "source": [
        "print('''a\n",
        "an\n",
        "ant''')"
      ],
      "execution_count": null,
      "outputs": [
        {
          "output_type": "stream",
          "text": [
            "a\n",
            "an\n",
            "ant\n"
          ],
          "name": "stdout"
        }
      ]
    },
    {
      "cell_type": "markdown",
      "metadata": {
        "id": "kSF7mcFXbXkM"
      },
      "source": [
        "### solution 11.2"
      ]
    },
    {
      "cell_type": "code",
      "metadata": {
        "id": "5-4THBFybXkM",
        "colab": {
          "base_uri": "https://localhost:8080/"
        },
        "outputId": "f67a3efc-9f9a-46d7-dbeb-98c31e024e47"
      },
      "source": [
        "print(\"\"\"a\n",
        "an\n",
        "ant\"\"\")"
      ],
      "execution_count": null,
      "outputs": [
        {
          "output_type": "stream",
          "text": [
            "a\n",
            "an\n",
            "ant\n"
          ],
          "name": "stdout"
        }
      ]
    },
    {
      "cell_type": "markdown",
      "metadata": {
        "id": "T39SjNiqbXkK"
      },
      "source": [
        "# - Question 12"
      ]
    },
    {
      "cell_type": "markdown",
      "metadata": {
        "id": "ItC3PumQbXkM"
      },
      "source": [
        "### solution 12.1 (recommend)"
      ]
    },
    {
      "cell_type": "code",
      "metadata": {
        "id": "PHsiyEt4bXkM",
        "colab": {
          "base_uri": "https://localhost:8080/"
        },
        "outputId": "3cf89f81-5edd-49a4-bc2d-ae8c3cd795e5"
      },
      "source": [
        "print('''\\t*\n",
        "*\\t*\\t*\n",
        "\\t*''')"
      ],
      "execution_count": null,
      "outputs": [
        {
          "output_type": "stream",
          "text": [
            "\t*\n",
            "*\t*\t*\n",
            "\t*\n"
          ],
          "name": "stdout"
        }
      ]
    },
    {
      "cell_type": "markdown",
      "metadata": {
        "id": "8XUQ07fJbXkN"
      },
      "source": [
        "### solution 12.2"
      ]
    },
    {
      "cell_type": "code",
      "metadata": {
        "id": "qmBujOfRbXkN",
        "colab": {
          "base_uri": "https://localhost:8080/"
        },
        "outputId": "963358df-14d8-493b-c514-050ed7afc91f"
      },
      "source": [
        "print(\"\"\"\\t*\n",
        "*\\t*\\t*\n",
        "\\t*\"\"\")"
      ],
      "execution_count": null,
      "outputs": [
        {
          "output_type": "stream",
          "text": [
            "\t*\n",
            "*\t*\t*\n",
            "\t*\n"
          ],
          "name": "stdout"
        }
      ]
    },
    {
      "cell_type": "code",
      "metadata": {
        "id": "93LY-e-jbXkL"
      },
      "source": [
        "a = 2\n",
        "b = 3"
      ],
      "execution_count": null,
      "outputs": []
    },
    {
      "cell_type": "markdown",
      "metadata": {
        "id": "YHrP7q0dbXkL"
      },
      "source": [
        "### solution 12.1 (recommend)"
      ]
    },
    {
      "cell_type": "code",
      "metadata": {
        "id": "gx4DjcjKbXkL",
        "colab": {
          "base_uri": "https://localhost:8080/"
        },
        "outputId": "59f5b2b5-9a88-4473-9a3e-9b0de7221a66"
      },
      "source": [
        "print(a, 'x', b, '= 6')"
      ],
      "execution_count": null,
      "outputs": [
        {
          "output_type": "stream",
          "text": [
            "2 x 3 = 6\n"
          ],
          "name": "stdout"
        }
      ]
    },
    {
      "cell_type": "markdown",
      "metadata": {
        "id": "xrK4a1s7bXkL"
      },
      "source": [
        "### solution 12.2"
      ]
    },
    {
      "cell_type": "code",
      "metadata": {
        "id": "IIdZWT57bXkL",
        "colab": {
          "base_uri": "https://localhost:8080/"
        },
        "outputId": "ab8eb830-6248-46f0-d0c8-ce51a415d3b3"
      },
      "source": [
        "print(a, \"x\", b, \"= 6\")"
      ],
      "execution_count": null,
      "outputs": [
        {
          "output_type": "stream",
          "text": [
            "2 x 3 = 6\n"
          ],
          "name": "stdout"
        }
      ]
    },
    {
      "cell_type": "markdown",
      "metadata": {
        "id": "VliAmrbBbXkL"
      },
      "source": [
        "# - Question 13"
      ]
    },
    {
      "cell_type": "markdown",
      "metadata": {
        "id": "huj6pP72bXkN"
      },
      "source": [
        "### solution 13.1 (recommend)"
      ]
    },
    {
      "cell_type": "code",
      "metadata": {
        "id": "KbgNeglxbXkN",
        "colab": {
          "base_uri": "https://localhost:8080/"
        },
        "outputId": "788a4785-39a5-493c-bdbe-23a524335fc3"
      },
      "source": [
        "print('''*\\t+\\t*\n",
        "+\\t*\\t+\n",
        "*\\t+\\t*''')"
      ],
      "execution_count": null,
      "outputs": [
        {
          "output_type": "stream",
          "text": [
            "*\t+\t*\n",
            "+\t*\t+\n",
            "*\t+\t*\n"
          ],
          "name": "stdout"
        }
      ]
    },
    {
      "cell_type": "markdown",
      "metadata": {
        "id": "8V_Uv5N6bXkN"
      },
      "source": [
        "### solution 13.2"
      ]
    },
    {
      "cell_type": "code",
      "metadata": {
        "id": "abla7qW0bXkO",
        "colab": {
          "base_uri": "https://localhost:8080/"
        },
        "outputId": "a37a3110-1e9d-4b86-d694-6e1e709a1f2f"
      },
      "source": [
        "print(\"\"\"*\\t+\\t*\n",
        "+\\t*\\t+\n",
        "*\\t+\\t*\"\"\")"
      ],
      "execution_count": null,
      "outputs": [
        {
          "output_type": "stream",
          "text": [
            "*\t+\t*\n",
            "+\t*\t+\n",
            "*\t+\t*\n"
          ],
          "name": "stdout"
        }
      ]
    },
    {
      "cell_type": "markdown",
      "metadata": {
        "id": "CI5ZKgHBbXkM"
      },
      "source": [
        "# - Question 14"
      ]
    },
    {
      "cell_type": "markdown",
      "metadata": {
        "id": "lDk9_3a1bXka"
      },
      "source": [
        "### solution 14.1 (recommend)"
      ]
    },
    {
      "cell_type": "code",
      "metadata": {
        "id": "6K5lLNmfbXka",
        "colab": {
          "base_uri": "https://localhost:8080/"
        },
        "outputId": "d8b91766-b031-4f88-b924-0eeae6552dbf"
      },
      "source": [
        "print(\"\"\"Just because something\n",
        "thinks differently from you,\n",
        "does that mean it's not thinking ?\"\"\")"
      ],
      "execution_count": null,
      "outputs": [
        {
          "output_type": "stream",
          "text": [
            "Just because something\n",
            "thinks differently from you,\n",
            "does that mean it's not thinking ?\n"
          ],
          "name": "stdout"
        }
      ]
    },
    {
      "cell_type": "markdown",
      "metadata": {
        "id": "ackFwsjCbXkb"
      },
      "source": [
        "### solution 14.2"
      ]
    },
    {
      "cell_type": "code",
      "metadata": {
        "id": "BCnxG0uQbXkb",
        "colab": {
          "base_uri": "https://localhost:8080/"
        },
        "outputId": "01a1195a-c3ca-4a18-8a44-487198b4aebb"
      },
      "source": [
        "print('''Just because something\n",
        "thinks differently from you,\n",
        "does that mean it\\'s not thinking ?''')"
      ],
      "execution_count": null,
      "outputs": [
        {
          "output_type": "stream",
          "text": [
            "Just because something\n",
            "thinks differently from you,\n",
            "does that mean it's not thinking ?\n"
          ],
          "name": "stdout"
        }
      ]
    },
    {
      "cell_type": "markdown",
      "metadata": {
        "id": "3KtT0B2ubXkN"
      },
      "source": [
        "# - Question 15"
      ]
    },
    {
      "cell_type": "markdown",
      "metadata": {
        "id": "8x8dOsDwbXkZ"
      },
      "source": [
        "### solution 15.1 (recommend)"
      ]
    },
    {
      "cell_type": "code",
      "metadata": {
        "id": "KNCh1pinbXka",
        "colab": {
          "base_uri": "https://localhost:8080/"
        },
        "outputId": "54a8a889-ce32-4a2e-bc6b-ef89b8dd1b40"
      },
      "source": [
        "print('''\\\\\\t\\t/\n",
        "\\tX\n",
        "/\\t\\t\\\\''')"
      ],
      "execution_count": null,
      "outputs": [
        {
          "output_type": "stream",
          "text": [
            "\\\t\t/\n",
            "\tX\n",
            "/\t\t\\\n"
          ],
          "name": "stdout"
        }
      ]
    },
    {
      "cell_type": "markdown",
      "metadata": {
        "id": "Z3Yg-AcZbXka"
      },
      "source": [
        "### solution 15.2"
      ]
    },
    {
      "cell_type": "code",
      "metadata": {
        "id": "0fhbGnWbbXka",
        "colab": {
          "base_uri": "https://localhost:8080/"
        },
        "outputId": "f2385dfb-92a0-4ea6-f3a4-df7b1724cafc"
      },
      "source": [
        "print(\"\"\"\\\\\\t\\t/\n",
        "\\tX\n",
        "/\\t\\t\\\\\"\"\")"
      ],
      "execution_count": null,
      "outputs": [
        {
          "output_type": "stream",
          "text": [
            "\\\t\t/\n",
            "\tX\n",
            "/\t\t\\\n"
          ],
          "name": "stdout"
        }
      ]
    },
    {
      "cell_type": "markdown",
      "metadata": {
        "id": "-vJaFuIAbXkO"
      },
      "source": [
        "# - Question 16"
      ]
    },
    {
      "cell_type": "markdown",
      "metadata": {
        "id": "14AYL5_6bXj-"
      },
      "source": [
        "### solution 16.1 (recommend)"
      ]
    },
    {
      "cell_type": "code",
      "metadata": {
        "scrolled": true,
        "id": "L6XwrbTfbXj-",
        "colab": {
          "base_uri": "https://localhost:8080/"
        },
        "outputId": "2c3896e2-a05b-46ca-e520-04e019cd6388"
      },
      "source": [
        "print(25)"
      ],
      "execution_count": null,
      "outputs": [
        {
          "output_type": "stream",
          "text": [
            "25\n"
          ],
          "name": "stdout"
        }
      ]
    },
    {
      "cell_type": "markdown",
      "metadata": {
        "id": "GiTp6MosbXj-"
      },
      "source": [
        "### solution 16.2"
      ]
    },
    {
      "cell_type": "code",
      "metadata": {
        "id": "NQJX641XbXj-",
        "colab": {
          "base_uri": "https://localhost:8080/"
        },
        "outputId": "0d9edfb3-36e5-459b-9604-ee8de96cdfb1"
      },
      "source": [
        "print('%d' %25)"
      ],
      "execution_count": null,
      "outputs": [
        {
          "output_type": "stream",
          "text": [
            "25\n"
          ],
          "name": "stdout"
        }
      ]
    },
    {
      "cell_type": "markdown",
      "metadata": {
        "id": "M70AK8PkbXj_"
      },
      "source": [
        "### solution 16.3"
      ]
    },
    {
      "cell_type": "code",
      "metadata": {
        "id": "ZIZ1NI38bXj_",
        "colab": {
          "base_uri": "https://localhost:8080/"
        },
        "outputId": "eb60ba62-297c-45df-b676-a127a677497b"
      },
      "source": [
        "print('%.0f' %25)"
      ],
      "execution_count": null,
      "outputs": [
        {
          "output_type": "stream",
          "text": [
            "25\n"
          ],
          "name": "stdout"
        }
      ]
    },
    {
      "cell_type": "markdown",
      "metadata": {
        "id": "H7KgJxvObXkP"
      },
      "source": [
        "# - Question 17"
      ]
    },
    {
      "cell_type": "markdown",
      "metadata": {
        "id": "gLHgjPgSbXkA"
      },
      "source": [
        "### solution 17.1 (recommend)"
      ]
    },
    {
      "cell_type": "code",
      "metadata": {
        "scrolled": true,
        "id": "dfcCKpfSbXkA",
        "colab": {
          "base_uri": "https://localhost:8080/"
        },
        "outputId": "6f5e83bd-f14b-4c1c-b1a0-5ad3e0b9733a"
      },
      "source": [
        "print('%f' %100)"
      ],
      "execution_count": null,
      "outputs": [
        {
          "output_type": "stream",
          "text": [
            "100.000000\n"
          ],
          "name": "stdout"
        }
      ]
    },
    {
      "cell_type": "markdown",
      "metadata": {
        "id": "VEpXZX44bXkB"
      },
      "source": [
        "### solution 17.2"
      ]
    },
    {
      "cell_type": "code",
      "metadata": {
        "id": "2iKg1zHlbXkB",
        "colab": {
          "base_uri": "https://localhost:8080/"
        },
        "outputId": "3ae296fb-597c-4cc6-bd39-7e3c6684e195"
      },
      "source": [
        "print('%.6f' %100)"
      ],
      "execution_count": null,
      "outputs": [
        {
          "output_type": "stream",
          "text": [
            "100.000000\n"
          ],
          "name": "stdout"
        }
      ]
    },
    {
      "cell_type": "markdown",
      "metadata": {
        "id": "_-nFGwIHbXkQ"
      },
      "source": [
        "# - Question 18"
      ]
    },
    {
      "cell_type": "markdown",
      "metadata": {
        "id": "EcfYtFkvbXkC"
      },
      "source": [
        "### solution 18.1 (recommend)"
      ]
    },
    {
      "cell_type": "code",
      "metadata": {
        "id": "40zg70Y4bXkC",
        "colab": {
          "base_uri": "https://localhost:8080/"
        },
        "outputId": "d13cbe7a-facf-4f45-cb64-90cd64b00668"
      },
      "source": [
        "from math import pi\n",
        "print('%.15f' %pi)"
      ],
      "execution_count": null,
      "outputs": [
        {
          "output_type": "stream",
          "text": [
            "3.141592653589793\n"
          ],
          "name": "stdout"
        }
      ]
    },
    {
      "cell_type": "markdown",
      "metadata": {
        "id": "ByCeprlKbXkD"
      },
      "source": [
        "### solution 18.2"
      ]
    },
    {
      "cell_type": "code",
      "metadata": {
        "id": "48d7XEUabXkD",
        "colab": {
          "base_uri": "https://localhost:8080/"
        },
        "outputId": "164e0fc9-09d3-4c17-e770-2cbcbef8be21"
      },
      "source": [
        "import math\n",
        "print('%.15f' %math.pi)"
      ],
      "execution_count": null,
      "outputs": [
        {
          "output_type": "stream",
          "text": [
            "3.141592653589793\n"
          ],
          "name": "stdout"
        }
      ]
    },
    {
      "cell_type": "markdown",
      "metadata": {
        "id": "s6OtS_i_bXkS"
      },
      "source": [
        "# - Question 19"
      ]
    },
    {
      "cell_type": "markdown",
      "metadata": {
        "id": "al1Y26aebXkG"
      },
      "source": [
        "### solution 19.1 (recommend)"
      ]
    },
    {
      "cell_type": "code",
      "metadata": {
        "id": "4HMWLJFibXkH",
        "colab": {
          "base_uri": "https://localhost:8080/"
        },
        "outputId": "4a7c57a5-df4a-4261-b1f1-48b6de615d26"
      },
      "source": [
        "a = 2\n",
        "print(a)"
      ],
      "execution_count": null,
      "outputs": [
        {
          "output_type": "stream",
          "text": [
            "2\n"
          ],
          "name": "stdout"
        }
      ]
    },
    {
      "cell_type": "markdown",
      "metadata": {
        "id": "rsXOY3NgbXkH"
      },
      "source": [
        "### solution 19.2"
      ]
    },
    {
      "cell_type": "code",
      "metadata": {
        "id": "3mCEpSU0bXkI",
        "colab": {
          "base_uri": "https://localhost:8080/"
        },
        "outputId": "9a432f94-2a1f-4400-bf9b-acfab8007af7"
      },
      "source": [
        "a = 2\n",
        "print('%d' %a)"
      ],
      "execution_count": null,
      "outputs": [
        {
          "output_type": "stream",
          "text": [
            "2\n"
          ],
          "name": "stdout"
        }
      ]
    },
    {
      "cell_type": "markdown",
      "metadata": {
        "id": "iu-KMsGsbXkI"
      },
      "source": [
        "### solution 19.3"
      ]
    },
    {
      "cell_type": "code",
      "metadata": {
        "id": "mOPaIGfvbXkJ",
        "colab": {
          "base_uri": "https://localhost:8080/"
        },
        "outputId": "c715b94f-1749-486b-d7bc-6e7c23ba1a7b"
      },
      "source": [
        "a = 2\n",
        "print('%.0f' %a)"
      ],
      "execution_count": null,
      "outputs": [
        {
          "output_type": "stream",
          "text": [
            "2\n"
          ],
          "name": "stdout"
        }
      ]
    },
    {
      "cell_type": "markdown",
      "metadata": {
        "id": "e7TczLPabXkV"
      },
      "source": [
        "# - Question 20"
      ]
    },
    {
      "cell_type": "markdown",
      "metadata": {
        "id": "Wx-QKmfBbXkJ"
      },
      "source": [
        "### solution 20.1 (recommend)"
      ]
    },
    {
      "cell_type": "code",
      "metadata": {
        "id": "MTwmm_uRbXkK",
        "colab": {
          "base_uri": "https://localhost:8080/"
        },
        "outputId": "cdcb98db-de4d-4cb6-c3c7-20dda29417a8"
      },
      "source": [
        "a = 12.5\n",
        "print(a)"
      ],
      "execution_count": null,
      "outputs": [
        {
          "output_type": "stream",
          "text": [
            "12.5\n"
          ],
          "name": "stdout"
        }
      ]
    },
    {
      "cell_type": "markdown",
      "metadata": {
        "id": "jLgykxAJbXkK"
      },
      "source": [
        "### solution 20.2"
      ]
    },
    {
      "cell_type": "code",
      "metadata": {
        "id": "4EtRb4wWbXkK",
        "colab": {
          "base_uri": "https://localhost:8080/"
        },
        "outputId": "47ae7d42-2523-4420-8c9f-938d18aeaa34"
      },
      "source": [
        "a = 12.5\n",
        "print('%.1f' %a)"
      ],
      "execution_count": null,
      "outputs": [
        {
          "output_type": "stream",
          "text": [
            "12.5\n"
          ],
          "name": "stdout"
        }
      ]
    },
    {
      "cell_type": "markdown",
      "metadata": {
        "id": "z2zrPn1ybXkX"
      },
      "source": [
        "# - Question 21"
      ]
    },
    {
      "cell_type": "markdown",
      "metadata": {
        "id": "k3Asnirw2g_D"
      },
      "source": [
        "### solution 21.1 (recommend)"
      ]
    },
    {
      "cell_type": "code",
      "metadata": {
        "colab": {
          "base_uri": "https://localhost:8080/"
        },
        "id": "F8UBxYCV2g_G",
        "outputId": "757274c6-5c9f-4243-d4d1-2addd356f301"
      },
      "source": [
        "a = 2\n",
        "b = 3\n",
        "print(a, 'x', b, '= 6')"
      ],
      "execution_count": null,
      "outputs": [
        {
          "output_type": "stream",
          "text": [
            "2 x 3 = 6\n"
          ],
          "name": "stdout"
        }
      ]
    },
    {
      "cell_type": "markdown",
      "metadata": {
        "id": "f_DZtpUt2g_G"
      },
      "source": [
        "### solution 21.2"
      ]
    },
    {
      "cell_type": "code",
      "metadata": {
        "colab": {
          "base_uri": "https://localhost:8080/"
        },
        "id": "goC00uSe2g_H",
        "outputId": "e31770e9-7086-4512-97fa-5319adf8a9a8"
      },
      "source": [
        "a = 2\n",
        "b = 3\n",
        "print('%d x %d = %d' %(a, b, a*b))"
      ],
      "execution_count": null,
      "outputs": [
        {
          "output_type": "stream",
          "text": [
            "2 x 3 = 6\n"
          ],
          "name": "stdout"
        }
      ]
    },
    {
      "cell_type": "markdown",
      "metadata": {
        "id": "Y_fVuqjPbXkY"
      },
      "source": [
        "# - Question 22"
      ]
    },
    {
      "cell_type": "markdown",
      "metadata": {
        "id": "zAtRz5wSbXkW"
      },
      "source": [
        "### solution 22.1 (recommend)"
      ]
    },
    {
      "cell_type": "code",
      "metadata": {
        "id": "cTx_NgM1bXkW",
        "colab": {
          "base_uri": "https://localhost:8080/"
        },
        "outputId": "67f9230d-5cf1-4f32-ffe2-041be3160f6d"
      },
      "source": [
        "a = 2\n",
        "b = 3\n",
        "print('%d + %d = %d + %d = %d' %(a, b, b, a, a+b))"
      ],
      "execution_count": null,
      "outputs": [
        {
          "output_type": "stream",
          "text": [
            "2 + 3 = 3 + 2 = 5\n"
          ],
          "name": "stdout"
        }
      ]
    },
    {
      "cell_type": "markdown",
      "metadata": {
        "id": "oh_5odOGbXkW"
      },
      "source": [
        "### solution 22.2"
      ]
    },
    {
      "cell_type": "code",
      "metadata": {
        "id": "eo-rPLcgbXkX",
        "colab": {
          "base_uri": "https://localhost:8080/"
        },
        "outputId": "7dea50fe-07fa-49a5-da75-d81d7031e113"
      },
      "source": [
        "a = 2\n",
        "b = 3\n",
        "print(a, '+', b, '=', b, '+', a, '=', a+b)"
      ],
      "execution_count": null,
      "outputs": [
        {
          "output_type": "stream",
          "text": [
            "2 + 3 = 3 + 2 = 5\n"
          ],
          "name": "stdout"
        }
      ]
    },
    {
      "cell_type": "markdown",
      "metadata": {
        "id": "x5z6kNbRbXkZ"
      },
      "source": [
        "# - Question 23"
      ]
    },
    {
      "cell_type": "markdown",
      "metadata": {
        "id": "8lctJxr6bXkX"
      },
      "source": [
        "### solution 23.1 (recommend)"
      ]
    },
    {
      "cell_type": "code",
      "metadata": {
        "id": "WvQ4Kk3XbXkX",
        "colab": {
          "base_uri": "https://localhost:8080/"
        },
        "outputId": "c9ab3731-5fd0-4670-9648-448f7757ed6d"
      },
      "source": [
        "a = 2\n",
        "b = 3\n",
        "c = 5\n",
        "print('%d*(%d + %d) = %d*%d + %d*%d' %(a, b, c, a, b, a, c))"
      ],
      "execution_count": null,
      "outputs": [
        {
          "output_type": "stream",
          "text": [
            "2*(3 + 5) = 2*3 + 2*5\n"
          ],
          "name": "stdout"
        }
      ]
    },
    {
      "cell_type": "markdown",
      "metadata": {
        "id": "b14drDu_bXkX"
      },
      "source": [
        "### solution 23.2"
      ]
    },
    {
      "cell_type": "code",
      "metadata": {
        "id": "EJswS6JybXkX",
        "colab": {
          "base_uri": "https://localhost:8080/"
        },
        "outputId": "29b7d99a-f392-493a-add0-af4f4c8d3b8b"
      },
      "source": [
        "a = 2\n",
        "b = 3\n",
        "c = 5\n",
        "print(\"%d*(%d + %d) = %d*%d + %d*%d\" %(a, b, c, a, b, a, c))"
      ],
      "execution_count": null,
      "outputs": [
        {
          "output_type": "stream",
          "text": [
            "2*(3 + 5) = 2*3 + 2*5\n"
          ],
          "name": "stdout"
        }
      ]
    },
    {
      "cell_type": "markdown",
      "metadata": {
        "id": "kyGgxaLXbXka"
      },
      "source": [
        "# - Question 24"
      ]
    },
    {
      "cell_type": "markdown",
      "metadata": {
        "id": "pa-gkEeXbXkY"
      },
      "source": [
        "### solution 24.1 (recommend)"
      ]
    },
    {
      "cell_type": "code",
      "metadata": {
        "id": "Tts7upEGbXkY",
        "colab": {
          "base_uri": "https://localhost:8080/"
        },
        "outputId": "ba3020a6-bda2-4c1c-ac86-fdd92d6e241c"
      },
      "source": [
        "a = 2.4\n",
        "b = 2.5\n",
        "print('%.1f + %.1f = %.4f' %(a, b, a+b))"
      ],
      "execution_count": null,
      "outputs": [
        {
          "output_type": "stream",
          "text": [
            "2.4 + 2.5 = 4.9000\n"
          ],
          "name": "stdout"
        }
      ]
    },
    {
      "cell_type": "markdown",
      "metadata": {
        "id": "VrHeDgs_bXkY"
      },
      "source": [
        "### solution 24.2"
      ]
    },
    {
      "cell_type": "code",
      "metadata": {
        "id": "nWaQtcCobXkZ",
        "colab": {
          "base_uri": "https://localhost:8080/"
        },
        "outputId": "54efb020-ed5a-4a3d-896b-c6ddedcb01fe"
      },
      "source": [
        "a = 2.4\n",
        "b = 2.5\n",
        "print(\"%.1f + %.1f = %.4f\" %(a, b, a+b))"
      ],
      "execution_count": null,
      "outputs": [
        {
          "output_type": "stream",
          "text": [
            "2.4 + 2.5 = 4.9000\n"
          ],
          "name": "stdout"
        }
      ]
    },
    {
      "cell_type": "markdown",
      "metadata": {
        "id": "aVzC1wp9bXkb"
      },
      "source": [
        "# - Question 25"
      ]
    },
    {
      "cell_type": "markdown",
      "metadata": {
        "id": "PUI4ZeXubXkd"
      },
      "source": [
        "### solution 25.1"
      ]
    },
    {
      "cell_type": "code",
      "metadata": {
        "id": "e-UdBZ7QbXkd",
        "colab": {
          "base_uri": "https://localhost:8080/"
        },
        "outputId": "2dee84e1-806d-4bcd-f325-f5ef274fa486"
      },
      "source": [
        "a = 5\n",
        "b = 2\n",
        "print('%.1f - %.2f = %.4f' %(a, b, a-b))"
      ],
      "execution_count": null,
      "outputs": [
        {
          "output_type": "stream",
          "text": [
            "5.0 - 2.00 = 3.0000\n"
          ],
          "name": "stdout"
        }
      ]
    },
    {
      "cell_type": "markdown",
      "metadata": {
        "id": "-4g2L9A0bXkd"
      },
      "source": [
        "### solution 25.2"
      ]
    },
    {
      "cell_type": "code",
      "metadata": {
        "id": "QHajIhjTbXkd",
        "colab": {
          "base_uri": "https://localhost:8080/"
        },
        "outputId": "441cebe8-6001-456f-e59b-a1eb06f2f918"
      },
      "source": [
        "a = 5\n",
        "b = 2\n",
        "print(\"%.1f - %.2f = %.4f\" %(a, b, a-b))"
      ],
      "execution_count": null,
      "outputs": [
        {
          "output_type": "stream",
          "text": [
            "5.0 - 2.00 = 3.0000\n"
          ],
          "name": "stdout"
        }
      ]
    },
    {
      "cell_type": "markdown",
      "metadata": {
        "id": "f1q3iMaNbXkc"
      },
      "source": [
        "# - Question 26"
      ]
    },
    {
      "cell_type": "markdown",
      "metadata": {
        "id": "dpQ8WL4rbXkO"
      },
      "source": [
        "### solution 26.1 (recommend)"
      ]
    },
    {
      "cell_type": "code",
      "metadata": {
        "id": "m7lZncn4bXkO",
        "colab": {
          "base_uri": "https://localhost:8080/"
        },
        "outputId": "4c380d67-564f-4709-905b-7e29d2a19c2f"
      },
      "source": [
        "birthday = 25\n",
        "print('ฉันเกิดวันที่', birthday, 'ธันวาคม')"
      ],
      "execution_count": null,
      "outputs": [
        {
          "output_type": "stream",
          "text": [
            "ฉันเกิดวันที่ 25 ธันวาคม\n"
          ],
          "name": "stdout"
        }
      ]
    },
    {
      "cell_type": "markdown",
      "metadata": {
        "id": "Js3CoazfbXkO"
      },
      "source": [
        "### solution 26.2"
      ]
    },
    {
      "cell_type": "code",
      "metadata": {
        "id": "zDVuHGPwbXkO",
        "colab": {
          "base_uri": "https://localhost:8080/"
        },
        "outputId": "e3cba146-751c-487e-8e3e-0d4f67b99cf8"
      },
      "source": [
        "birthday = 25\n",
        "print(\"ฉันเกิดวันที่\", birthday, \"ธันวาคม\")"
      ],
      "execution_count": null,
      "outputs": [
        {
          "output_type": "stream",
          "text": [
            "ฉันเกิดวันที่ 25 ธันวาคม\n"
          ],
          "name": "stdout"
        }
      ]
    },
    {
      "cell_type": "markdown",
      "metadata": {
        "id": "SpWPIUAibXkc"
      },
      "source": [
        "# - Question 27"
      ]
    },
    {
      "cell_type": "markdown",
      "metadata": {
        "id": "i64DQp8cbXkb"
      },
      "source": [
        "### solution 27.1 (recommend)"
      ]
    },
    {
      "cell_type": "code",
      "metadata": {
        "id": "37udwfjxbXkb",
        "colab": {
          "base_uri": "https://localhost:8080/"
        },
        "outputId": "5e1c8392-c7af-423d-a4b9-5a0225ad0e9c"
      },
      "source": [
        "a = 5\n",
        "b = 100\n",
        "print('%d เท่าของ %d มีค่าเท่ากับ %d' %(a, b, a*b))"
      ],
      "execution_count": null,
      "outputs": [
        {
          "output_type": "stream",
          "text": [
            "5 เท่าของ 100 มีค่าเท่ากับ 500\n"
          ],
          "name": "stdout"
        }
      ]
    },
    {
      "cell_type": "markdown",
      "metadata": {
        "id": "l9MlqKBebXkc"
      },
      "source": [
        "### solution 27.2"
      ]
    },
    {
      "cell_type": "code",
      "metadata": {
        "id": "QqoG0YCUbXkc",
        "colab": {
          "base_uri": "https://localhost:8080/"
        },
        "outputId": "2418b0d6-719d-4d1f-ef78-73876c2588da"
      },
      "source": [
        "a = 5\n",
        "b = 100\n",
        "print(a, 'เท่าของ', b, 'มีค่าเท่ากับ', a*b)"
      ],
      "execution_count": null,
      "outputs": [
        {
          "output_type": "stream",
          "text": [
            "5 เท่าของ 100 มีค่าเท่ากับ 500\n"
          ],
          "name": "stdout"
        }
      ]
    },
    {
      "cell_type": "markdown",
      "metadata": {
        "id": "gk4-INC4bXkd"
      },
      "source": [
        "# - Question 28"
      ]
    },
    {
      "cell_type": "markdown",
      "metadata": {
        "id": "frC-riyJbXkd"
      },
      "source": [
        "### solution 28.1"
      ]
    },
    {
      "cell_type": "code",
      "metadata": {
        "id": "FFuIfRNfbXkd",
        "colab": {
          "base_uri": "https://localhost:8080/"
        },
        "outputId": "3c7a90a3-21ba-4846-935f-a75feb4ceb87"
      },
      "source": [
        "a = 3.5\n",
        "print('เขามีเงินเยอะกว่าฉัน %.2f บาท' %a)"
      ],
      "execution_count": null,
      "outputs": [
        {
          "output_type": "stream",
          "text": [
            "เขามีเงินเยอะกว่าฉัน 3.50 บาท\n"
          ],
          "name": "stdout"
        }
      ]
    },
    {
      "cell_type": "markdown",
      "metadata": {
        "id": "ZSPwwlDBbXkd"
      },
      "source": [
        "### solution 28.2"
      ]
    },
    {
      "cell_type": "code",
      "metadata": {
        "id": "Y2iMC6RlbXkd",
        "colab": {
          "base_uri": "https://localhost:8080/"
        },
        "outputId": "cd189f82-4740-4cc6-eb70-abf7487fb6ef"
      },
      "source": [
        "a = 3.5\n",
        "print(\"เขามีเงินเยอะกว่าฉัน %.2f บาท\" %a)"
      ],
      "execution_count": null,
      "outputs": [
        {
          "output_type": "stream",
          "text": [
            "เขามีเงินเยอะกว่าฉัน 3.50 บาท\n"
          ],
          "name": "stdout"
        }
      ]
    },
    {
      "cell_type": "markdown",
      "metadata": {
        "id": "yzlqJzBfbXkd"
      },
      "source": [
        "# - Question 29"
      ]
    },
    {
      "cell_type": "markdown",
      "metadata": {
        "id": "B1MKJZtwbXkd"
      },
      "source": [
        "### solution 29.1 (recommend)"
      ]
    },
    {
      "cell_type": "code",
      "metadata": {
        "id": "o-8I33AabXke",
        "colab": {
          "base_uri": "https://localhost:8080/"
        },
        "outputId": "e28cf1d9-fb69-41a1-b752-cb81a1ead566"
      },
      "source": [
        "a = 5\n",
        "print('ฉันได้กำไร', a, '%')"
      ],
      "execution_count": null,
      "outputs": [
        {
          "output_type": "stream",
          "text": [
            "ฉันได้กำไร 5 %\n"
          ],
          "name": "stdout"
        }
      ]
    },
    {
      "cell_type": "markdown",
      "metadata": {
        "id": "LVtT9PvfbXke"
      },
      "source": [
        "### solution 29.2"
      ]
    },
    {
      "cell_type": "code",
      "metadata": {
        "id": "X13W5Q-zbXke",
        "colab": {
          "base_uri": "https://localhost:8080/"
        },
        "outputId": "c1721ddd-e80c-4488-9fc2-d4fe2f0d1d2d"
      },
      "source": [
        "print('ฉันได้กำไร %d %%' %a)"
      ],
      "execution_count": null,
      "outputs": [
        {
          "output_type": "stream",
          "text": [
            "ฉันได้กำไร 5 %\n"
          ],
          "name": "stdout"
        }
      ]
    },
    {
      "cell_type": "markdown",
      "metadata": {
        "id": "8nvpKyTybXke"
      },
      "source": [
        "# - Question 30"
      ]
    },
    {
      "cell_type": "markdown",
      "metadata": {
        "id": "ublRqqYebXke"
      },
      "source": [
        "### solution 30.1 (recommend)"
      ]
    },
    {
      "cell_type": "code",
      "metadata": {
        "id": "ukWzr8sObXke",
        "colab": {
          "base_uri": "https://localhost:8080/"
        },
        "outputId": "997abd62-939f-41f5-8897-1f6332c6b393"
      },
      "source": [
        "a = 2\n",
        "b = 3.5\n",
        "print('เมื่อวานฉันขาดทุน %d %% วันนี้ฉันได้กำไร %.2f %%' %(a, b))"
      ],
      "execution_count": null,
      "outputs": [
        {
          "output_type": "stream",
          "text": [
            "เมื่อวานฉันขาดทุน 2 % วันนี้ฉันได้กำไร 3.50 %\n"
          ],
          "name": "stdout"
        }
      ]
    },
    {
      "cell_type": "markdown",
      "metadata": {
        "id": "aNCXTX6JbXkf"
      },
      "source": [
        "### solution 30.2"
      ]
    },
    {
      "cell_type": "code",
      "metadata": {
        "id": "Cnq3wxbKbXkf",
        "colab": {
          "base_uri": "https://localhost:8080/"
        },
        "outputId": "f0851aa9-b39e-47c9-a38f-79e1983ca7bf"
      },
      "source": [
        "a = 2\n",
        "b = 3.5\n",
        "print(\"เมื่อวานฉันขาดทุน %d %% วันนี้ฉันได้กำไร %.2f %%\" %(a, b))"
      ],
      "execution_count": null,
      "outputs": [
        {
          "output_type": "stream",
          "text": [
            "เมื่อวานฉันขาดทุน 2 % วันนี้ฉันได้กำไร 3.50 %\n"
          ],
          "name": "stdout"
        }
      ]
    }
  ]
}